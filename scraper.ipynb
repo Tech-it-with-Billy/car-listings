{
 "cells": [
  {
   "cell_type": "code",
   "execution_count": 1,
   "id": "e11e57a9",
   "metadata": {},
   "outputs": [],
   "source": [
    "from selenium import webdriver\n",
    "from selenium.webdriver.common.by import By\n",
    "from selenium.common.exceptions import NoSuchElementException\n",
    "import time\n",
    "import csv"
   ]
  },
  {
   "cell_type": "code",
   "execution_count": null,
   "id": "c8dba9f4",
   "metadata": {},
   "outputs": [],
   "source": [
    "# Setup\n",
    "driver = webdriver.Chrome()\n",
    "driver.get(\"https://jiji.co.ke/cars?price_min=500000&price_max=829000&sort=price_desc\")\n",
    "time.sleep(3)\n",
    "\n",
    "# Scroll to load more cars \n",
    "for _ in range(400):\n",
    "    driver.execute_script(\"window.scrollTo(0, document.body.scrollHeight);\")\n",
    "    time.sleep(3)"
   ]
  },
  {
   "cell_type": "code",
   "execution_count": 3,
   "id": "4c0b12f9",
   "metadata": {},
   "outputs": [
    {
     "name": "stdout",
     "output_type": "stream",
     "text": [
      "🔗 Listing Links Found:\n",
      "----------------------------------------\n",
      "\n",
      "✅ Total Listings Found: 340\n",
      "\n"
     ]
    }
   ],
   "source": [
    "# Collect all full listing URLs including query params\n",
    "base_url = \"https://jiji.co.ke\"\n",
    "listing_elements = driver.find_elements(By.CSS_SELECTOR, 'a.b-list-advert-base.qa-advert-list-item')\n",
    "\n",
    "# Extract full links\n",
    "car_links = []\n",
    "print(\"🔗 Listing Links Found:\\n\" + \"-\"*40)\n",
    "for el in listing_elements:\n",
    "    href = el.get_attribute(\"href\")\n",
    "    if href and href.startswith(\"/\"):\n",
    "        full_url = base_url + href\n",
    "    elif href and href.startswith(\"http\"):\n",
    "        full_url = href\n",
    "    else:\n",
    "        continue\n",
    "    # print(full_url)\n",
    "    car_links.append(full_url)\n",
    "\n",
    "print(f\"\\n✅ Total Listings Found: {len(car_links)}\\n\")\n"
   ]
  },
  {
   "cell_type": "code",
   "execution_count": 4,
   "id": "73b5f3b6",
   "metadata": {},
   "outputs": [],
   "source": [
    "# Function to safely extract text\n",
    "def safe_get(selector, by=By.CSS_SELECTOR):\n",
    "    try:\n",
    "        return driver.find_element(by, selector).text.strip()\n",
    "    except NoSuchElementException:\n",
    "        return ''"
   ]
  },
  {
   "cell_type": "code",
   "execution_count": null,
   "id": "7b071664",
   "metadata": {},
   "outputs": [
    {
     "ename": "StaleElementReferenceException",
     "evalue": "Message: stale element reference: stale element not found in the current frame\n  (Session info: chrome=137.0.7151.55); For documentation on this error, please visit: https://www.selenium.dev/documentation/webdriver/troubleshooting/errors#stale-element-reference-exception\nStacktrace:\n\tGetHandleVerifier [0x0x7ff601c76f65+78965]\n\tGetHandleVerifier [0x0x7ff601c76fc0+79056]\n\t(No symbol) [0x0x7ff601a09dda]\n\t(No symbol) [0x0x7ff601a117c1]\n\t(No symbol) [0x0x7ff601a1482c]\n\t(No symbol) [0x0x7ff601a148ff]\n\t(No symbol) [0x0x7ff601a59d76]\n\t(No symbol) [0x0x7ff601a8866a]\n\t(No symbol) [0x0x7ff601a52b56]\n\t(No symbol) [0x0x7ff601a88880]\n\t(No symbol) [0x0x7ff601ab0dbe]\n\t(No symbol) [0x0x7ff601a88443]\n\t(No symbol) [0x0x7ff601a51311]\n\t(No symbol) [0x0x7ff601a520a3]\n\tGetHandleVerifier [0x0x7ff601f2e26d+2926461]\n\tGetHandleVerifier [0x0x7ff601f28993+2903715]\n\tGetHandleVerifier [0x0x7ff601f46aed+3026941]\n\tGetHandleVerifier [0x0x7ff601c916fe+187406]\n\tGetHandleVerifier [0x0x7ff601c996ef+220159]\n\tGetHandleVerifier [0x0x7ff601c7faf4+114692]\n\tGetHandleVerifier [0x0x7ff601c7fca9+115129]\n\tGetHandleVerifier [0x0x7ff601c664d8+10728]\n\tBaseThreadInitThunk [0x0x7ff856cde8d7+23]\n\tRtlUserThreadStart [0x0x7ff8585dc34c+44]\n",
     "output_type": "error",
     "traceback": [
      "\u001b[1;31m---------------------------------------------------------------------------\u001b[0m",
      "\u001b[1;31mStaleElementReferenceException\u001b[0m            Traceback (most recent call last)",
      "Cell \u001b[1;32mIn[5], line 11\u001b[0m\n\u001b[0;32m      8\u001b[0m driver\u001b[38;5;241m.\u001b[39mget(link)\n\u001b[0;32m      9\u001b[0m time\u001b[38;5;241m.\u001b[39msleep(\u001b[38;5;241m2\u001b[39m)\n\u001b[1;32m---> 11\u001b[0m make \u001b[38;5;241m=\u001b[39m safe_get(\u001b[38;5;124m\"\u001b[39m\u001b[38;5;124mdiv[itemprop=\u001b[39m\u001b[38;5;124m'\u001b[39m\u001b[38;5;124mbrand\u001b[39m\u001b[38;5;124m'\u001b[39m\u001b[38;5;124m]\u001b[39m\u001b[38;5;124m\"\u001b[39m)\n\u001b[0;32m     12\u001b[0m model \u001b[38;5;241m=\u001b[39m safe_get(\u001b[38;5;124m\"\u001b[39m\u001b[38;5;124mdiv[itemprop=\u001b[39m\u001b[38;5;124m'\u001b[39m\u001b[38;5;124mmodel\u001b[39m\u001b[38;5;124m'\u001b[39m\u001b[38;5;124m]\u001b[39m\u001b[38;5;124m\"\u001b[39m)\n\u001b[0;32m     13\u001b[0m price \u001b[38;5;241m=\u001b[39m safe_get(\u001b[38;5;124m\"\u001b[39m\u001b[38;5;124mspan.qa-advert-price-view-value\u001b[39m\u001b[38;5;124m\"\u001b[39m)\n",
      "Cell \u001b[1;32mIn[4], line 4\u001b[0m, in \u001b[0;36msafe_get\u001b[1;34m(selector, by)\u001b[0m\n\u001b[0;32m      2\u001b[0m \u001b[38;5;28;01mdef\u001b[39;00m \u001b[38;5;21msafe_get\u001b[39m(selector, by\u001b[38;5;241m=\u001b[39mBy\u001b[38;5;241m.\u001b[39mCSS_SELECTOR):\n\u001b[0;32m      3\u001b[0m     \u001b[38;5;28;01mtry\u001b[39;00m:\n\u001b[1;32m----> 4\u001b[0m         \u001b[38;5;28;01mreturn\u001b[39;00m driver\u001b[38;5;241m.\u001b[39mfind_element(by, selector)\u001b[38;5;241m.\u001b[39mtext\u001b[38;5;241m.\u001b[39mstrip()\n\u001b[0;32m      5\u001b[0m     \u001b[38;5;28;01mexcept\u001b[39;00m NoSuchElementException:\n\u001b[0;32m      6\u001b[0m         \u001b[38;5;28;01mreturn\u001b[39;00m \u001b[38;5;124m'\u001b[39m\u001b[38;5;124m'\u001b[39m\n",
      "File \u001b[1;32mc:\\Users\\Billy Ochieng\\anaconda3\\Lib\\site-packages\\selenium\\webdriver\\remote\\webelement.py:109\u001b[0m, in \u001b[0;36mWebElement.text\u001b[1;34m(self)\u001b[0m\n\u001b[0;32m     96\u001b[0m \u001b[38;5;129m@property\u001b[39m\n\u001b[0;32m     97\u001b[0m \u001b[38;5;28;01mdef\u001b[39;00m \u001b[38;5;21mtext\u001b[39m(\u001b[38;5;28mself\u001b[39m) \u001b[38;5;241m-\u001b[39m\u001b[38;5;241m>\u001b[39m \u001b[38;5;28mstr\u001b[39m:\n\u001b[0;32m     98\u001b[0m \u001b[38;5;250m    \u001b[39m\u001b[38;5;124;03m\"\"\"The text of the element.\u001b[39;00m\n\u001b[0;32m     99\u001b[0m \n\u001b[0;32m    100\u001b[0m \u001b[38;5;124;03m    Returns:\u001b[39;00m\n\u001b[1;32m   (...)\u001b[0m\n\u001b[0;32m    107\u001b[0m \u001b[38;5;124;03m    >>> print(element.text)\u001b[39;00m\n\u001b[0;32m    108\u001b[0m \u001b[38;5;124;03m    \"\"\"\u001b[39;00m\n\u001b[1;32m--> 109\u001b[0m     \u001b[38;5;28;01mreturn\u001b[39;00m \u001b[38;5;28mself\u001b[39m\u001b[38;5;241m.\u001b[39m_execute(Command\u001b[38;5;241m.\u001b[39mGET_ELEMENT_TEXT)[\u001b[38;5;124m\"\u001b[39m\u001b[38;5;124mvalue\u001b[39m\u001b[38;5;124m\"\u001b[39m]\n",
      "File \u001b[1;32mc:\\Users\\Billy Ochieng\\anaconda3\\Lib\\site-packages\\selenium\\webdriver\\remote\\webelement.py:572\u001b[0m, in \u001b[0;36mWebElement._execute\u001b[1;34m(self, command, params)\u001b[0m\n\u001b[0;32m    570\u001b[0m     params \u001b[38;5;241m=\u001b[39m {}\n\u001b[0;32m    571\u001b[0m params[\u001b[38;5;124m\"\u001b[39m\u001b[38;5;124mid\u001b[39m\u001b[38;5;124m\"\u001b[39m] \u001b[38;5;241m=\u001b[39m \u001b[38;5;28mself\u001b[39m\u001b[38;5;241m.\u001b[39m_id\n\u001b[1;32m--> 572\u001b[0m \u001b[38;5;28;01mreturn\u001b[39;00m \u001b[38;5;28mself\u001b[39m\u001b[38;5;241m.\u001b[39m_parent\u001b[38;5;241m.\u001b[39mexecute(command, params)\n",
      "File \u001b[1;32mc:\\Users\\Billy Ochieng\\anaconda3\\Lib\\site-packages\\selenium\\webdriver\\remote\\webdriver.py:429\u001b[0m, in \u001b[0;36mWebDriver.execute\u001b[1;34m(self, driver_command, params)\u001b[0m\n\u001b[0;32m    427\u001b[0m response \u001b[38;5;241m=\u001b[39m \u001b[38;5;28mself\u001b[39m\u001b[38;5;241m.\u001b[39mcommand_executor\u001b[38;5;241m.\u001b[39mexecute(driver_command, params)\n\u001b[0;32m    428\u001b[0m \u001b[38;5;28;01mif\u001b[39;00m response:\n\u001b[1;32m--> 429\u001b[0m     \u001b[38;5;28mself\u001b[39m\u001b[38;5;241m.\u001b[39merror_handler\u001b[38;5;241m.\u001b[39mcheck_response(response)\n\u001b[0;32m    430\u001b[0m     response[\u001b[38;5;124m\"\u001b[39m\u001b[38;5;124mvalue\u001b[39m\u001b[38;5;124m\"\u001b[39m] \u001b[38;5;241m=\u001b[39m \u001b[38;5;28mself\u001b[39m\u001b[38;5;241m.\u001b[39m_unwrap_value(response\u001b[38;5;241m.\u001b[39mget(\u001b[38;5;124m\"\u001b[39m\u001b[38;5;124mvalue\u001b[39m\u001b[38;5;124m\"\u001b[39m, \u001b[38;5;28;01mNone\u001b[39;00m))\n\u001b[0;32m    431\u001b[0m     \u001b[38;5;28;01mreturn\u001b[39;00m response\n",
      "File \u001b[1;32mc:\\Users\\Billy Ochieng\\anaconda3\\Lib\\site-packages\\selenium\\webdriver\\remote\\errorhandler.py:232\u001b[0m, in \u001b[0;36mErrorHandler.check_response\u001b[1;34m(self, response)\u001b[0m\n\u001b[0;32m    230\u001b[0m         alert_text \u001b[38;5;241m=\u001b[39m value[\u001b[38;5;124m\"\u001b[39m\u001b[38;5;124malert\u001b[39m\u001b[38;5;124m\"\u001b[39m]\u001b[38;5;241m.\u001b[39mget(\u001b[38;5;124m\"\u001b[39m\u001b[38;5;124mtext\u001b[39m\u001b[38;5;124m\"\u001b[39m)\n\u001b[0;32m    231\u001b[0m     \u001b[38;5;28;01mraise\u001b[39;00m exception_class(message, screen, stacktrace, alert_text)  \u001b[38;5;66;03m# type: ignore[call-arg]  # mypy is not smart enough here\u001b[39;00m\n\u001b[1;32m--> 232\u001b[0m \u001b[38;5;28;01mraise\u001b[39;00m exception_class(message, screen, stacktrace)\n",
      "\u001b[1;31mStaleElementReferenceException\u001b[0m: Message: stale element reference: stale element not found in the current frame\n  (Session info: chrome=137.0.7151.55); For documentation on this error, please visit: https://www.selenium.dev/documentation/webdriver/troubleshooting/errors#stale-element-reference-exception\nStacktrace:\n\tGetHandleVerifier [0x0x7ff601c76f65+78965]\n\tGetHandleVerifier [0x0x7ff601c76fc0+79056]\n\t(No symbol) [0x0x7ff601a09dda]\n\t(No symbol) [0x0x7ff601a117c1]\n\t(No symbol) [0x0x7ff601a1482c]\n\t(No symbol) [0x0x7ff601a148ff]\n\t(No symbol) [0x0x7ff601a59d76]\n\t(No symbol) [0x0x7ff601a8866a]\n\t(No symbol) [0x0x7ff601a52b56]\n\t(No symbol) [0x0x7ff601a88880]\n\t(No symbol) [0x0x7ff601ab0dbe]\n\t(No symbol) [0x0x7ff601a88443]\n\t(No symbol) [0x0x7ff601a51311]\n\t(No symbol) [0x0x7ff601a520a3]\n\tGetHandleVerifier [0x0x7ff601f2e26d+2926461]\n\tGetHandleVerifier [0x0x7ff601f28993+2903715]\n\tGetHandleVerifier [0x0x7ff601f46aed+3026941]\n\tGetHandleVerifier [0x0x7ff601c916fe+187406]\n\tGetHandleVerifier [0x0x7ff601c996ef+220159]\n\tGetHandleVerifier [0x0x7ff601c7faf4+114692]\n\tGetHandleVerifier [0x0x7ff601c7fca9+115129]\n\tGetHandleVerifier [0x0x7ff601c664d8+10728]\n\tBaseThreadInitThunk [0x0x7ff856cde8d7+23]\n\tRtlUserThreadStart [0x0x7ff8585dc34c+44]\n"
     ]
    }
   ],
   "source": [
    "# Prepare CS\n",
    "with open(\"scraped_data/car_listings42.csv\", \"w\", newline='', encoding=\"utf-8\") as file:\n",
    "    writer = csv.writer(file)\n",
    "    writer.writerow([\"Make\", \"Model\", \"Price\", \"Location\", \"Year\", \"Mileage\", \"Transmission\", \"Color\", \"Previous Ownership\", \"URL\"])\n",
    "\n",
    "    # Loop through car links\n",
    "    for link in car_links:\n",
    "        driver.get(link)\n",
    "        time.sleep(2)\n",
    "\n",
    "        make = safe_get(\"div[itemprop='brand']\")\n",
    "        model = safe_get(\"div[itemprop='model']\")\n",
    "        price = safe_get(\"span.qa-advert-price-view-value\")\n",
    "        location = safe_get(\"div.b-advert-info-statistics--region\")\n",
    "        year = safe_get(\"div[itemprop='productionDate']\")\n",
    "        mileage = safe_get(\"span[itemprop='mileageFromOdometer']\")\n",
    "        transmission = safe_get(\"span[itemprop='vehicleTransmission']\")\n",
    "        color = safe_get(\"div[itemprop='color']\")\n",
    "        ownership = safe_get(\"span[itemprop='itemCondition']\")\n",
    "\n",
    "        writer.writerow([make, model, price, location, year, mileage, transmission, color, ownership, link])\n",
    "\n",
    "driver.quit()\n"
   ]
  }
 ],
 "metadata": {
  "kernelspec": {
   "display_name": "base",
   "language": "python",
   "name": "python3"
  },
  "language_info": {
   "codemirror_mode": {
    "name": "ipython",
    "version": 3
   },
   "file_extension": ".py",
   "mimetype": "text/x-python",
   "name": "python",
   "nbconvert_exporter": "python",
   "pygments_lexer": "ipython3",
   "version": "3.12.7"
  }
 },
 "nbformat": 4,
 "nbformat_minor": 5
}
