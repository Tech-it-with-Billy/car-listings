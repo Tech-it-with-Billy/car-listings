{
 "cells": [
  {
   "cell_type": "code",
   "execution_count": 1,
   "id": "e11e57a9",
   "metadata": {},
   "outputs": [],
   "source": [
    "from selenium import webdriver\n",
    "from selenium.webdriver.common.by import By\n",
    "from selenium.common.exceptions import NoSuchElementException\n",
    "import time\n",
    "import csv"
   ]
  },
  {
   "cell_type": "code",
   "execution_count": null,
   "id": "c8dba9f4",
   "metadata": {},
   "outputs": [],
   "source": [
    "# Setup\n",
    "driver = webdriver.Chrome()\n",
    "driver.get(\"https://jiji.co.ke/cars?sort=price_desc&price_max=2499000\")\n",
    "time.sleep(3)\n",
    "\n",
    "# Scroll to load more cars \n",
    "for _ in range(200):\n",
    "    driver.execute_script(\"window.scrollTo(0, document.body.scrollHeight);\")\n",
    "    time.sleep(3)"
   ]
  },
  {
   "cell_type": "code",
   "execution_count": 3,
   "id": "4c0b12f9",
   "metadata": {},
   "outputs": [
    {
     "name": "stdout",
     "output_type": "stream",
     "text": [
      "🔗 Listing Links Found:\n",
      "----------------------------------------\n",
      "\n",
      "✅ Total Listings Found: 3940\n",
      "\n"
     ]
    }
   ],
   "source": [
    "# Collect all full listing URLs including query params\n",
    "base_url = \"https://jiji.co.ke\"\n",
    "listing_elements = driver.find_elements(By.CSS_SELECTOR, 'a.b-list-advert-base.qa-advert-list-item')\n",
    "\n",
    "# Extract full links\n",
    "car_links = []\n",
    "print(\"🔗 Listing Links Found:\\n\" + \"-\"*40)\n",
    "for el in listing_elements:\n",
    "    href = el.get_attribute(\"href\")\n",
    "    if href and href.startswith(\"/\"):  # ensure it's a relative URL\n",
    "        full_url = base_url + href\n",
    "    elif href and href.startswith(\"http\"):  # already full URL\n",
    "        full_url = href\n",
    "    else:\n",
    "        continue\n",
    "    # print(full_url)\n",
    "    car_links.append(full_url)\n",
    "\n",
    "print(f\"\\n✅ Total Listings Found: {len(car_links)}\\n\")\n"
   ]
  },
  {
   "cell_type": "code",
   "execution_count": 4,
   "id": "73b5f3b6",
   "metadata": {},
   "outputs": [],
   "source": [
    "# Function to safely extract text\n",
    "def safe_get(selector, by=By.CSS_SELECTOR):\n",
    "    try:\n",
    "        return driver.find_element(by, selector).text.strip()\n",
    "    except NoSuchElementException:\n",
    "        return ''"
   ]
  },
  {
   "cell_type": "code",
   "execution_count": null,
   "id": "7b071664",
   "metadata": {},
   "outputs": [
    {
     "ename": "InvalidSessionIdException",
     "evalue": "Message: invalid session id: session deleted as the browser has closed the connection\nfrom disconnected: Unable to receive message from renderer\n  (Session info: chrome=137.0.7151.55)\nStacktrace:\n\tGetHandleVerifier [0x0x7ff737c06f65+78965]\n\tGetHandleVerifier [0x0x7ff737c06fc0+79056]\n\t(No symbol) [0x0x7ff737999dda]\n\t(No symbol) [0x0x7ff73798727c]\n\t(No symbol) [0x0x7ff737986f6a]\n\t(No symbol) [0x0x7ff737984b38]\n\t(No symbol) [0x0x7ff73798559f]\n\t(No symbol) [0x0x7ff73799425e]\n\t(No symbol) [0x0x7ff7379aa631]\n\t(No symbol) [0x0x7ff7379b178a]\n\t(No symbol) [0x0x7ff737985d3d]\n\t(No symbol) [0x0x7ff7379a9e21]\n\t(No symbol) [0x0x7ff737a41141]\n\t(No symbol) [0x0x7ff737a18443]\n\t(No symbol) [0x0x7ff7379e1311]\n\t(No symbol) [0x0x7ff7379e20a3]\n\tGetHandleVerifier [0x0x7ff737ebe26d+2926461]\n\tGetHandleVerifier [0x0x7ff737eb8993+2903715]\n\tGetHandleVerifier [0x0x7ff737ed6aed+3026941]\n\tGetHandleVerifier [0x0x7ff737c216fe+187406]\n\tGetHandleVerifier [0x0x7ff737c296ef+220159]\n\tGetHandleVerifier [0x0x7ff737c0faf4+114692]\n\tGetHandleVerifier [0x0x7ff737c0fca9+115129]\n\tGetHandleVerifier [0x0x7ff737bf64d8+10728]\n\tBaseThreadInitThunk [0x0x7ffb309ee8d7+23]\n\tRtlUserThreadStart [0x0x7ffb31ffc5dc+44]\n",
     "output_type": "error",
     "traceback": [
      "\u001b[1;31m---------------------------------------------------------------------------\u001b[0m",
      "\u001b[1;31mInvalidSessionIdException\u001b[0m                 Traceback (most recent call last)",
      "Cell \u001b[1;32mIn[5], line 8\u001b[0m\n\u001b[0;32m      6\u001b[0m \u001b[38;5;66;03m# Loop through car links\u001b[39;00m\n\u001b[0;32m      7\u001b[0m \u001b[38;5;28;01mfor\u001b[39;00m link \u001b[38;5;129;01min\u001b[39;00m car_links:\n\u001b[1;32m----> 8\u001b[0m     driver\u001b[38;5;241m.\u001b[39mget(link)\n\u001b[0;32m      9\u001b[0m     time\u001b[38;5;241m.\u001b[39msleep(\u001b[38;5;241m2\u001b[39m)\n\u001b[0;32m     11\u001b[0m     make \u001b[38;5;241m=\u001b[39m safe_get(\u001b[38;5;124m\"\u001b[39m\u001b[38;5;124mdiv[itemprop=\u001b[39m\u001b[38;5;124m'\u001b[39m\u001b[38;5;124mbrand\u001b[39m\u001b[38;5;124m'\u001b[39m\u001b[38;5;124m]\u001b[39m\u001b[38;5;124m\"\u001b[39m)\n",
      "File \u001b[1;32mc:\\Users\\Billy Ochieng\\anaconda3\\Lib\\site-packages\\selenium\\webdriver\\remote\\webdriver.py:454\u001b[0m, in \u001b[0;36mWebDriver.get\u001b[1;34m(self, url)\u001b[0m\n\u001b[0;32m    436\u001b[0m \u001b[38;5;28;01mdef\u001b[39;00m \u001b[38;5;21mget\u001b[39m(\u001b[38;5;28mself\u001b[39m, url: \u001b[38;5;28mstr\u001b[39m) \u001b[38;5;241m-\u001b[39m\u001b[38;5;241m>\u001b[39m \u001b[38;5;28;01mNone\u001b[39;00m:\n\u001b[0;32m    437\u001b[0m \u001b[38;5;250m    \u001b[39m\u001b[38;5;124;03m\"\"\"Navigate the browser to the specified URL in the current window or\u001b[39;00m\n\u001b[0;32m    438\u001b[0m \u001b[38;5;124;03m    tab.\u001b[39;00m\n\u001b[0;32m    439\u001b[0m \n\u001b[1;32m   (...)\u001b[0m\n\u001b[0;32m    452\u001b[0m \u001b[38;5;124;03m    >>> driver.get(\"https://example.com\")\u001b[39;00m\n\u001b[0;32m    453\u001b[0m \u001b[38;5;124;03m    \"\"\"\u001b[39;00m\n\u001b[1;32m--> 454\u001b[0m     \u001b[38;5;28mself\u001b[39m\u001b[38;5;241m.\u001b[39mexecute(Command\u001b[38;5;241m.\u001b[39mGET, {\u001b[38;5;124m\"\u001b[39m\u001b[38;5;124murl\u001b[39m\u001b[38;5;124m\"\u001b[39m: url})\n",
      "File \u001b[1;32mc:\\Users\\Billy Ochieng\\anaconda3\\Lib\\site-packages\\selenium\\webdriver\\remote\\webdriver.py:429\u001b[0m, in \u001b[0;36mWebDriver.execute\u001b[1;34m(self, driver_command, params)\u001b[0m\n\u001b[0;32m    427\u001b[0m response \u001b[38;5;241m=\u001b[39m \u001b[38;5;28mself\u001b[39m\u001b[38;5;241m.\u001b[39mcommand_executor\u001b[38;5;241m.\u001b[39mexecute(driver_command, params)\n\u001b[0;32m    428\u001b[0m \u001b[38;5;28;01mif\u001b[39;00m response:\n\u001b[1;32m--> 429\u001b[0m     \u001b[38;5;28mself\u001b[39m\u001b[38;5;241m.\u001b[39merror_handler\u001b[38;5;241m.\u001b[39mcheck_response(response)\n\u001b[0;32m    430\u001b[0m     response[\u001b[38;5;124m\"\u001b[39m\u001b[38;5;124mvalue\u001b[39m\u001b[38;5;124m\"\u001b[39m] \u001b[38;5;241m=\u001b[39m \u001b[38;5;28mself\u001b[39m\u001b[38;5;241m.\u001b[39m_unwrap_value(response\u001b[38;5;241m.\u001b[39mget(\u001b[38;5;124m\"\u001b[39m\u001b[38;5;124mvalue\u001b[39m\u001b[38;5;124m\"\u001b[39m, \u001b[38;5;28;01mNone\u001b[39;00m))\n\u001b[0;32m    431\u001b[0m     \u001b[38;5;28;01mreturn\u001b[39;00m response\n",
      "File \u001b[1;32mc:\\Users\\Billy Ochieng\\anaconda3\\Lib\\site-packages\\selenium\\webdriver\\remote\\errorhandler.py:232\u001b[0m, in \u001b[0;36mErrorHandler.check_response\u001b[1;34m(self, response)\u001b[0m\n\u001b[0;32m    230\u001b[0m         alert_text \u001b[38;5;241m=\u001b[39m value[\u001b[38;5;124m\"\u001b[39m\u001b[38;5;124malert\u001b[39m\u001b[38;5;124m\"\u001b[39m]\u001b[38;5;241m.\u001b[39mget(\u001b[38;5;124m\"\u001b[39m\u001b[38;5;124mtext\u001b[39m\u001b[38;5;124m\"\u001b[39m)\n\u001b[0;32m    231\u001b[0m     \u001b[38;5;28;01mraise\u001b[39;00m exception_class(message, screen, stacktrace, alert_text)  \u001b[38;5;66;03m# type: ignore[call-arg]  # mypy is not smart enough here\u001b[39;00m\n\u001b[1;32m--> 232\u001b[0m \u001b[38;5;28;01mraise\u001b[39;00m exception_class(message, screen, stacktrace)\n",
      "\u001b[1;31mInvalidSessionIdException\u001b[0m: Message: invalid session id: session deleted as the browser has closed the connection\nfrom disconnected: Unable to receive message from renderer\n  (Session info: chrome=137.0.7151.55)\nStacktrace:\n\tGetHandleVerifier [0x0x7ff737c06f65+78965]\n\tGetHandleVerifier [0x0x7ff737c06fc0+79056]\n\t(No symbol) [0x0x7ff737999dda]\n\t(No symbol) [0x0x7ff73798727c]\n\t(No symbol) [0x0x7ff737986f6a]\n\t(No symbol) [0x0x7ff737984b38]\n\t(No symbol) [0x0x7ff73798559f]\n\t(No symbol) [0x0x7ff73799425e]\n\t(No symbol) [0x0x7ff7379aa631]\n\t(No symbol) [0x0x7ff7379b178a]\n\t(No symbol) [0x0x7ff737985d3d]\n\t(No symbol) [0x0x7ff7379a9e21]\n\t(No symbol) [0x0x7ff737a41141]\n\t(No symbol) [0x0x7ff737a18443]\n\t(No symbol) [0x0x7ff7379e1311]\n\t(No symbol) [0x0x7ff7379e20a3]\n\tGetHandleVerifier [0x0x7ff737ebe26d+2926461]\n\tGetHandleVerifier [0x0x7ff737eb8993+2903715]\n\tGetHandleVerifier [0x0x7ff737ed6aed+3026941]\n\tGetHandleVerifier [0x0x7ff737c216fe+187406]\n\tGetHandleVerifier [0x0x7ff737c296ef+220159]\n\tGetHandleVerifier [0x0x7ff737c0faf4+114692]\n\tGetHandleVerifier [0x0x7ff737c0fca9+115129]\n\tGetHandleVerifier [0x0x7ff737bf64d8+10728]\n\tBaseThreadInitThunk [0x0x7ffb309ee8d7+23]\n\tRtlUserThreadStart [0x0x7ffb31ffc5dc+44]\n"
     ]
    }
   ],
   "source": [
    "# Prepare CS\n",
    "with open(\"scraped_data/car_listings19.csv\", \"w\", newline='', encoding=\"utf-8\") as file:\n",
    "    writer = csv.writer(file)\n",
    "    writer.writerow([\"Make\", \"Model\", \"Price\", \"Location\", \"Year\", \"Mileage\", \"Transmission\", \"Color\", \"Previous Ownership\", \"URL\"])\n",
    "\n",
    "    # Loop through car links\n",
    "    for link in car_links:\n",
    "        driver.get(link)\n",
    "        time.sleep(2)\n",
    "\n",
    "        make = safe_get(\"div[itemprop='brand']\")\n",
    "        model = safe_get(\"div[itemprop='model']\")\n",
    "        price = safe_get(\"span.qa-advert-price-view-value\")\n",
    "        location = safe_get(\"div.b-advert-info-statistics--region\") # next sibling span\n",
    "        year = safe_get(\"div[itemprop='productionDate']\")\n",
    "        mileage = safe_get(\"span[itemprop='mileageFromOdometer']\")\n",
    "        transmission = safe_get(\"span[itemprop='vehicleTransmission']\")\n",
    "        color = safe_get(\"div[itemprop='color']\")\n",
    "        ownership = safe_get(\"span[itemprop='itemCondition']\")\n",
    "\n",
    "        writer.writerow([make, model, price, location, year, mileage, transmission, color, ownership, link])\n",
    "\n",
    "driver.quit()\n"
   ]
  }
 ],
 "metadata": {
  "kernelspec": {
   "display_name": "base",
   "language": "python",
   "name": "python3"
  },
  "language_info": {
   "codemirror_mode": {
    "name": "ipython",
    "version": 3
   },
   "file_extension": ".py",
   "mimetype": "text/x-python",
   "name": "python",
   "nbconvert_exporter": "python",
   "pygments_lexer": "ipython3",
   "version": "3.12.7"
  }
 },
 "nbformat": 4,
 "nbformat_minor": 5
}
